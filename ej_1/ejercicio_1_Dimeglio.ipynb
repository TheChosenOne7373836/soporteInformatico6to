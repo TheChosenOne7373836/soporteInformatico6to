{
  "nbformat": 4,
  "nbformat_minor": 0,
  "metadata": {
    "colab": {
      "provenance": []
    },
    "kernelspec": {
      "name": "python3",
      "display_name": "Python 3"
    },
    "language_info": {
      "name": "python"
    }
  },
  "cells": [
    {
      "cell_type": "code",
      "execution_count": 10,
      "metadata": {
        "colab": {
          "base_uri": "https://localhost:8080/"
        },
        "id": "LQWCgTk60FVN",
        "outputId": "a7f4aeb6-ae27-4eed-cd57-f768913d7e51"
      },
      "outputs": [
        {
          "output_type": "stream",
          "name": "stdout",
          "text": [
            "['casa', 'pajaro', 'edificio']\n"
          ]
        }
      ],
      "source": [
        "lista = [\"ca sa\", \"paj ar o\", \"ed i f icio\"]\n",
        "nueva_lista = []\n",
        "valor = \"\"\n",
        "new_valor = \"\"\n",
        "broker = False\n",
        "\n",
        "# aparentemente, no me permite realizar inputs() porque considera que finalizo el programa; osea los ignora\n",
        "\n",
        "#print(\"Ingrese valores hasta que ponga '0'\")\n",
        "#while broker:\n",
        "# valor = input(\"Aca: \")\n",
        "#  if(valor == \"0\"):\n",
        "#    broker = False\n",
        "#    separador(lista)\n",
        "#   else:\n",
        "#     lista.append(valor)\n",
        "\n",
        "separador(lista)\n",
        "\n",
        "\n",
        "def separador(lista):\n",
        "  for new_valor in lista:\n",
        "\n",
        "    partes = new_valor.split()\n",
        "    extra = ''.join(partes)\n",
        "    nueva_lista.append(extra)\n",
        "\n",
        "  print(nueva_lista)"
      ]
    }
  ]
}