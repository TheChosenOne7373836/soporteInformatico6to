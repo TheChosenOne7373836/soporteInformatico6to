{
  "nbformat": 4,
  "nbformat_minor": 0,
  "metadata": {
    "colab": {
      "provenance": []
    },
    "kernelspec": {
      "name": "python3",
      "display_name": "Python 3"
    },
    "language_info": {
      "name": "python"
    }
  },
  "cells": [
    {
      "cell_type": "markdown",
      "source": [
        "# Web Scraping\n",
        "\n",
        "Técnica utilizada para extraer automáticamente datos páginas web\n",
        "\n",
        "Pasos para el scraping\n",
        "1. Especificar las urls de los sitios web y las páginas que se van a scapear.\n",
        "2. Leer el archivo robots.txt de la página a visitar, para asegurarse de que está permitido.\n",
        "3. Hacer una petición HTML a las URL.\n",
        "4. Utilizar localizadores como expresiones regulares para extraer la información deseada del HTML.\n",
        "5. Guardar los datos en un formato estructurado (como CSV o JSON).\n",
        "\n",
        "Desventajas:\n",
        "- Variabilidad\n",
        "- Durabilidad\n",
        "\n"
      ],
      "metadata": {
        "id": "dWML3_gV4bL2"
      }
    },
    {
      "cell_type": "code",
      "execution_count": 35,
      "metadata": {
        "id": "u2CG79ouaT3g"
      },
      "outputs": [],
      "source": [
        "import requests\n",
        "from bs4 import BeautifulSoup\n",
        "import pandas as pd\n",
        "\n",
        "\n",
        "def arreglarPorcentaje(valor):\n",
        "    for i in range(len(valor[\"Precio anterior\"])):\n",
        "        if valor[\"Precio anterior\"][i] == '':\n",
        "            valor[\"Porcentaje\"].insert(i, \"0%\")\n",
        "    return valor[\"Porcentaje\"]\n",
        "\n",
        "def obtenerTexto(elementos):\n",
        "    listado = []\n",
        "    for i in elementos:\n",
        "      listado.append(i.getText())\n",
        "    return listado\n",
        "\n",
        "\n",
        "diccionario={}\n",
        "pagina = requests.get(\"https://www.mercadolibre.com.ar/ofertas#c_id=/home/promotions-recommendations/element&c_uid=5a54f368-27bd-4ba2-9392-0dfe4d2cc8c9\")\n",
        "objeto_sopa = BeautifulSoup(pagina.content, 'html.parser')\n",
        "nombres = objeto_sopa.find_all('p', class_='promotion-item__title')\n",
        "precios = objeto_sopa.find_all('span', class_='andes-money-amount andes-money-amount--cents-superscript')\n",
        "porcentaje = objeto_sopa.find_all('span', class_='promotion-item__discount-text')\n",
        "precioAnterior = objeto_sopa.find_all('s', class_='andes-money-amount andes-money-amount-combo__previous-value andes-money-amount--previous andes-money-amount--cents-superscript')\n",
        "diccionario[\"nombres\"] = obtenerTexto(nombres)\n",
        "diccionario[\"Precio\"] = obtenerTexto(precios)\n",
        "diccionario[\"Porcentaje\"] = obtenerTexto(porcentaje)\n",
        "diccionario[\"Precio anterior\"] = obtenerTexto(precioAnterior)\n",
        "diccionario[\"Porcentaje\"] = arreglarPorcentaje(diccionario)\n",
        "# nos quedamos con los 49 primeros\n",
        "diccionario[\"nombres\"] = diccionario[\"nombres\"][:30]\n",
        "diccionario[\"Precio\"] = diccionario[\"Precio\"][:30]\n",
        "diccionario[\"Precio anterior\"] = diccionario[\"Precio anterior\"][:30]\n",
        "diccionario[\"Porcentaje\"] = diccionario[\"Porcentaje\"][:30]\n",
        "\n",
        "data = pd.DataFrame(diccionario)\n",
        "data.to_csv(\"./ofertasMercadoLibre.csv\")"
      ]
    },
    {
      "cell_type": "code",
      "source": [
        "import csv\n",
        "import requests\n",
        "from bs4 import BeautifulSoup\n",
        "import pandas as pd\n",
        "url = \"https://www.worldometers.info/world-population/population-by-country/\"\n",
        "req = requests.get(url)\n",
        "soup = BeautifulSoup(req.text)\n",
        "data = soup.find_all(\"table\")[0]\n",
        "df_population = pd.read_html(str(data))[0]\n",
        "export_csv = df_population.to_csv(\"tabla.csv\", index = None, header = True)"
      ],
      "metadata": {
        "id": "GA6XBaR6arDI"
      },
      "execution_count": 3,
      "outputs": []
    },
    {
      "cell_type": "code",
      "source": [
        "import requests\n",
        "from bs4 import BeautifulSoup\n",
        "import pandas as pd\n",
        "import numpy as np\n",
        "\n",
        "\n",
        "diccionario={}\n",
        "preciosActuales = []\n",
        "preciosAnteriores = []\n",
        "descuentos = []\n",
        "nombres = []\n",
        "\n",
        "pagina = requests.get(\"https://www.mercadolibre.com.ar/ofertas#c_id=/home/promotions-recommendations/element&c_uid=5a54f368-27bd-4ba2-9392-0dfe4d2cc8c9\")\n",
        "contenido = BeautifulSoup(pagina.content, 'html.parser')\n",
        "promociones = contenido.find_all(\"div\", class_ = \"promotion-item__description\", limit = 50) #obtenemos el contenido de los productos\n",
        "\n",
        "for promocion in promociones:\n",
        "  preciosActuales.append(promocion.find(class_=\"andes-money-amount__fraction\").getText())\n",
        "  if promocion.find(\"s\"):\n",
        "      preciosAnteriores.append(promocion.find(\"s\").find_next(\"span\", class_=\"andes-money-amount__fraction\").getText())\n",
        "  else:\n",
        "      preciosAnteriores.append(np.nan)\n",
        "  # preciosAnteriores.append(promocion.s.find_next(\"span\", class_=\"andes-money-amount__fraction\").getText())\n",
        "  descuentos.append(promocion.find(class_=\"promotion-item__discount-text\").getText())\n",
        "  nombres.append(promocion.find(class_=\"promotion-item__title\").getText())\n",
        "\n",
        "diccionario[\"nombre\"] = nombres\n",
        "diccionario[\"descuento\"] = descuentos\n",
        "diccionario[\"precio actual\"] = preciosActuales\n",
        "diccionario[\"precio anterior\"] = preciosAnteriores\n",
        "data = pd.DataFrame(diccionario)\n",
        "data.to_csv(\"./ofertasMercadoLibreb.csv\")\n"
      ],
      "metadata": {
        "id": "g_dp0e2QrABG"
      },
      "execution_count": 33,
      "outputs": []
    }
  ]
}