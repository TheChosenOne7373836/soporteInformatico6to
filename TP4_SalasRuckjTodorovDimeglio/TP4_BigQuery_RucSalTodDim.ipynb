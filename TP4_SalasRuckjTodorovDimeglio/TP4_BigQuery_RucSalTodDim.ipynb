{
  "nbformat": 4,
  "nbformat_minor": 0,
  "metadata": {
    "colab": {
      "provenance": []
    },
    "kernelspec": {
      "name": "python3",
      "display_name": "Python 3"
    },
    "language_info": {
      "name": "python"
    }
  },
  "cells": [
    {
      "cell_type": "code",
      "execution_count": null,
      "metadata": {
        "id": "bo6GUfysdQbw"
      },
      "outputs": [],
      "source": [
        "import requests\n",
        "import pandas as pd\n",
        "import time\n",
        "\n",
        "# Función para obtener información general de la API de OMDB\n",
        "def fetch_movie_data(api_key, search_query, num_pages=10):\n",
        "    movies = []\n",
        "    base_url = \"http://www.omdbapi.com/\"\n",
        "\n",
        "    for page in range(1, num_pages + 1):\n",
        "        params = {\n",
        "            'apikey': api_key,\n",
        "            's': search_query,\n",
        "            'type': 'movie',\n",
        "            'page': page\n",
        "        }\n",
        "        response = requests.get(base_url, params=params)\n",
        "        data = response.json()\n",
        "\n",
        "        if 'Search' in data:\n",
        "            movies.extend(data['Search'])\n",
        "        time.sleep(1)  # Para evitar exceder el límite de la API\n",
        "\n",
        "    return movies\n",
        "\n",
        "# Función para obtener información detallada de una película por imdbID\n",
        "def fetch_movie_details(api_key, imdb_id):\n",
        "    base_url = \"http://www.omdbapi.com/\"\n",
        "    params = {\n",
        "        'apikey': api_key,\n",
        "        'i': imdb_id\n",
        "    }\n",
        "    response = requests.get(base_url, params=params)\n",
        "    return response.json()\n",
        "\n",
        "# API key y búsqueda\n",
        "api_key = '9a208c2b'\n",
        "search_query = 'movie'  # Ajusta según tus necesidades\n",
        "num_pages = 10  # Ajusta según el número de resultados que quieras obtener\n",
        "\n",
        "# Obtener datos generales\n",
        "movies = fetch_movie_data(api_key, search_query, num_pages)\n",
        "\n",
        "# Crear DataFrame y seleccionar solo las columnas relevantes\n",
        "df = pd.DataFrame(movies)\n",
        "df = df[['Title', 'Year', 'imdbID', 'Type']]  # Columnas seleccionadas: Título, Año, ID de IMDB y Tipo\n",
        "\n",
        "# Agregar columnas 'Genre' y 'Rated' obteniendo detalles de cada película\n",
        "genres = []\n",
        "rated = []\n",
        "for imdb_id in df['imdbID']:\n",
        "    details = fetch_movie_details(api_key, imdb_id)\n",
        "    genres.append(details.get('Genre', 'N/A'))\n",
        "    rated.append(details.get('Rated', 'N/A'))\n",
        "    time.sleep(1)  # Para evitar exceder el límite de la API\n",
        "\n",
        "df['Genre'] = genres\n",
        "df['Rated'] = rated\n",
        "\n",
        "# Guardar a CSV\n",
        "df.to_csv('peliculas.csv', index=False)\n"
      ]
    }
  ]
}