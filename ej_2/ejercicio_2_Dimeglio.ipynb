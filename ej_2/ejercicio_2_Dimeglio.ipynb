{
  "nbformat": 4,
  "nbformat_minor": 0,
  "metadata": {
    "colab": {
      "provenance": []
    },
    "kernelspec": {
      "name": "python3",
      "display_name": "Python 3"
    },
    "language_info": {
      "name": "python"
    }
  },
  "cells": [
    {
      "cell_type": "markdown",
      "source": [
        "CSV sobre series mas vistas de netflix:"
      ],
      "metadata": {
        "id": "_KmcTZ53w0om"
      }
    },
    {
      "cell_type": "code",
      "execution_count": 11,
      "metadata": {
        "colab": {
          "base_uri": "https://localhost:8080/"
        },
        "id": "ahxvAUa44yPb",
        "outputId": "146d9f2b-aa7f-4a15-f8a8-c941701d68c1"
      },
      "outputs": [
        {
          "output_type": "stream",
          "name": "stdout",
          "text": [
            "    lister-item-index       lister-item-header certificate runtime  \\\n",
            "0                   1          Stranger Things          15     60m   \n",
            "1                   2           13 Reasons Why          18     60m   \n",
            "2                   3  Orange Is the New Black          18     59m   \n",
            "3                   4             Black Mirror          18     60m   \n",
            "4                   5              Money Heist          15     60m   \n",
            "..                ...                      ...         ...     ...   \n",
            "75                 76          F Is for Family          15     30m   \n",
            "76                 77                The Ranch          15     30m   \n",
            "77                 78          American Vandal          15     34m   \n",
            "78                 79               Dead to Me          15     30m   \n",
            "79                 80                Quicksand          18     45m   \n",
            "\n",
            "                       genre  rating  votes  \n",
            "0     Drama, Fantasy, Horror     8.7   None  \n",
            "1   Drama, Mystery, Thriller     7.5  321k+  \n",
            "2       Comedy, Crime, Drama     8.0  342k+  \n",
            "3     Drama, Mystery, Sci-Fi     8.7  319k+  \n",
            "4       Action, Crime, Drama     8.2  086k+  \n",
            "..                       ...     ...    ...  \n",
            "75  Animation, Comedy, Drama     8.0  074k+  \n",
            "76    Comedy, Drama, Western     7.5  401k+  \n",
            "77      Comedy, Crime, Drama     8.1  985k+  \n",
            "78      Comedy, Crime, Drama     7.9  440k+  \n",
            "79     Crime, Drama, Mystery     7.4  507k+  \n",
            "\n",
            "[80 rows x 7 columns]\n"
          ]
        }
      ],
      "source": [
        "import pandas as pd\n",
        "import numpy as np\n",
        "\n",
        "\n",
        "def integrador(cont):\n",
        "    return int(cont)\n",
        "\n",
        "def simplificador(texto):\n",
        "    partes = texto.split()\n",
        "    if len(partes) == 2 and partes[1] == 'min':\n",
        "        return partes[0] + 'm'\n",
        "\n",
        "def simNum(numero_str):\n",
        "    partes = numero_str.split(',')\n",
        "    primer_numero = partes[1]\n",
        "    if len(partes) == 2:\n",
        "        if len(primer_numero) <= 3:\n",
        "            return primer_numero + 'k+'\n",
        "        else:\n",
        "            return primer_numero + 'm+'\n",
        "\n",
        "csv = pd.read_csv(\"/content/imdb.csv\")\n",
        "\n",
        "csv.dropna(inplace=True)\n",
        "\n",
        "csv['lister-item-index'] = csv['lister-item-index'].apply(integrador)\n",
        "csv['runtime'] = csv['runtime'].apply(simplificador)\n",
        "csv['votes'] = csv['votes'].apply(simNum)\n",
        "\n",
        "csv.to_csv('./nuevo.csv')\n",
        "print(csv)\n"
      ]
    }
  ]
}